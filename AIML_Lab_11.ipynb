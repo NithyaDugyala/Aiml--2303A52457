{
  "nbformat": 4,
  "nbformat_minor": 0,
  "metadata": {
    "colab": {
      "provenance": [],
      "authorship_tag": "ABX9TyPct8Qq8pKp/hqTqvPJKkxy",
      "include_colab_link": true
    },
    "kernelspec": {
      "name": "python3",
      "display_name": "Python 3"
    },
    "language_info": {
      "name": "python"
    }
  },
  "cells": [
    {
      "cell_type": "markdown",
      "metadata": {
        "id": "view-in-github",
        "colab_type": "text"
      },
      "source": [
        "<a href=\"https://colab.research.google.com/github/NithyaDugyala/Aiml--2303A52457/blob/main/AIML_Lab_11.ipynb\" target=\"_parent\"><img src=\"https://colab.research.google.com/assets/colab-badge.svg\" alt=\"Open In Colab\"/></a>"
      ]
    },
    {
      "cell_type": "markdown",
      "source": [
        "# Linear Regression"
      ],
      "metadata": {
        "id": "AMu915Xs-TDu"
      }
    },
    {
      "cell_type": "code",
      "execution_count": 1,
      "metadata": {
        "id": "Tk6zNf_O23u1",
        "colab": {
          "base_uri": "https://localhost:8080/"
        },
        "outputId": "f2c582e8-9b03-4596-bdf9-d26f928a4033"
      },
      "outputs": [
        {
          "output_type": "stream",
          "name": "stdout",
          "text": [
            "   word_freq_make  word_freq_address  word_freq_all  word_freq_3d  \\\n",
            "0            0.00               0.64           0.64           0.0   \n",
            "1            0.21               0.28           0.50           0.0   \n",
            "2            0.06               0.00           0.71           0.0   \n",
            "3            0.00               0.00           0.00           0.0   \n",
            "4            0.00               0.00           0.00           0.0   \n",
            "\n",
            "   word_freq_our  word_freq_over  word_freq_remove  word_freq_internet  \\\n",
            "0           0.32            0.00              0.00                0.00   \n",
            "1           0.14            0.28              0.21                0.07   \n",
            "2           1.23            0.19              0.19                0.12   \n",
            "3           0.63            0.00              0.31                0.63   \n",
            "4           0.63            0.00              0.31                0.63   \n",
            "\n",
            "   word_freq_order  word_freq_mail  ...  char_freq_%3B  char_freq_%28  \\\n",
            "0             0.00            0.00  ...           0.00          0.000   \n",
            "1             0.00            0.94  ...           0.00          0.132   \n",
            "2             0.64            0.25  ...           0.01          0.143   \n",
            "3             0.31            0.63  ...           0.00          0.137   \n",
            "4             0.31            0.63  ...           0.00          0.135   \n",
            "\n",
            "   char_freq_%5B  char_freq_%21  char_freq_%24  char_freq_%23  \\\n",
            "0            0.0          0.778          0.000          0.000   \n",
            "1            0.0          0.372          0.180          0.048   \n",
            "2            0.0          0.276          0.184          0.010   \n",
            "3            0.0          0.137          0.000          0.000   \n",
            "4            0.0          0.135          0.000          0.000   \n",
            "\n",
            "   capital_run_length_average  capital_run_length_longest  \\\n",
            "0                       3.756                          61   \n",
            "1                       5.114                         101   \n",
            "2                       9.821                         485   \n",
            "3                       3.537                          40   \n",
            "4                       3.537                          40   \n",
            "\n",
            "   capital_run_length_total  class  \n",
            "0                       278      1  \n",
            "1                      1028      1  \n",
            "2                      2259      1  \n",
            "3                       191      1  \n",
            "4                       191      1  \n",
            "\n",
            "[5 rows x 58 columns]\n",
            "<class 'pandas.core.frame.DataFrame'>\n",
            "RangeIndex: 4601 entries, 0 to 4600\n",
            "Data columns (total 58 columns):\n",
            " #   Column                      Non-Null Count  Dtype  \n",
            "---  ------                      --------------  -----  \n",
            " 0   word_freq_make              4601 non-null   float64\n",
            " 1   word_freq_address           4601 non-null   float64\n",
            " 2   word_freq_all               4601 non-null   float64\n",
            " 3   word_freq_3d                4601 non-null   float64\n",
            " 4   word_freq_our               4601 non-null   float64\n",
            " 5   word_freq_over              4601 non-null   float64\n",
            " 6   word_freq_remove            4601 non-null   float64\n",
            " 7   word_freq_internet          4601 non-null   float64\n",
            " 8   word_freq_order             4601 non-null   float64\n",
            " 9   word_freq_mail              4601 non-null   float64\n",
            " 10  word_freq_receive           4601 non-null   float64\n",
            " 11  word_freq_will              4601 non-null   float64\n",
            " 12  word_freq_people            4601 non-null   float64\n",
            " 13  word_freq_report            4601 non-null   float64\n",
            " 14  word_freq_addresses         4601 non-null   float64\n",
            " 15  word_freq_free              4601 non-null   float64\n",
            " 16  word_freq_business          4601 non-null   float64\n",
            " 17  word_freq_email             4601 non-null   float64\n",
            " 18  word_freq_you               4601 non-null   float64\n",
            " 19  word_freq_credit            4601 non-null   float64\n",
            " 20  word_freq_your              4601 non-null   float64\n",
            " 21  word_freq_font              4601 non-null   float64\n",
            " 22  word_freq_000               4601 non-null   float64\n",
            " 23  word_freq_money             4601 non-null   float64\n",
            " 24  word_freq_hp                4601 non-null   float64\n",
            " 25  word_freq_hpl               4601 non-null   float64\n",
            " 26  word_freq_george            4601 non-null   float64\n",
            " 27  word_freq_650               4601 non-null   float64\n",
            " 28  word_freq_lab               4601 non-null   float64\n",
            " 29  word_freq_labs              4601 non-null   float64\n",
            " 30  word_freq_telnet            4601 non-null   float64\n",
            " 31  word_freq_857               4601 non-null   float64\n",
            " 32  word_freq_data              4601 non-null   float64\n",
            " 33  word_freq_415               4601 non-null   float64\n",
            " 34  word_freq_85                4601 non-null   float64\n",
            " 35  word_freq_technology        4601 non-null   float64\n",
            " 36  word_freq_1999              4601 non-null   float64\n",
            " 37  word_freq_parts             4601 non-null   float64\n",
            " 38  word_freq_pm                4601 non-null   float64\n",
            " 39  word_freq_direct            4601 non-null   float64\n",
            " 40  word_freq_cs                4601 non-null   float64\n",
            " 41  word_freq_meeting           4601 non-null   float64\n",
            " 42  word_freq_original          4601 non-null   float64\n",
            " 43  word_freq_project           4601 non-null   float64\n",
            " 44  word_freq_re                4601 non-null   float64\n",
            " 45  word_freq_edu               4601 non-null   float64\n",
            " 46  word_freq_table             4601 non-null   float64\n",
            " 47  word_freq_conference        4601 non-null   float64\n",
            " 48  char_freq_%3B               4601 non-null   float64\n",
            " 49  char_freq_%28               4601 non-null   float64\n",
            " 50  char_freq_%5B               4601 non-null   float64\n",
            " 51  char_freq_%21               4601 non-null   float64\n",
            " 52  char_freq_%24               4601 non-null   float64\n",
            " 53  char_freq_%23               4601 non-null   float64\n",
            " 54  capital_run_length_average  4601 non-null   float64\n",
            " 55  capital_run_length_longest  4601 non-null   int64  \n",
            " 56  capital_run_length_total    4601 non-null   int64  \n",
            " 57  class                       4601 non-null   int64  \n",
            "dtypes: float64(55), int64(3)\n",
            "memory usage: 2.0 MB\n",
            "None\n",
            "Mean Squared Error: 0.10917012570825022\n",
            "R-squared: 0.5528389753204312\n"
          ]
        }
      ],
      "source": [
        "import pandas as pd\n",
        "from sklearn.model_selection import train_test_split\n",
        "from sklearn.linear_model import LinearRegression\n",
        "from sklearn.metrics import mean_squared_error, r2_score\n",
        "\n",
        "# Load the data\n",
        "data = pd.read_csv('/content/spambase_csv.csv')\n",
        "\n",
        "# Quick look at the data\n",
        "print(data.head())\n",
        "print(data.info())\n",
        "\n",
        "# Assume the last column is the target variable, and others are features\n",
        "X = data.iloc[:, :-1]\n",
        "y = data.iloc[:, -1]\n",
        "\n",
        "# Split the data into training and testing sets\n",
        "X_train, X_test, y_train, y_test = train_test_split(X, y, test_size=0.2, random_state=42)\n",
        "\n",
        "# Create and train the linear regression model\n",
        "model = LinearRegression()\n",
        "model.fit(X_train, y_train)\n",
        "\n",
        "# Make predictions\n",
        "y_pred = model.predict(X_test)\n",
        "\n",
        "# Evaluate the model\n",
        "mse = mean_squared_error(y_test, y_pred)\n",
        "r2 = r2_score(y_test, y_pred)\n",
        "\n",
        "print(\"Mean Squared Error:\", mse)\n",
        "print(\"R-squared:\", r2)\n"
      ]
    },
    {
      "cell_type": "markdown",
      "source": [
        "# Logistic Regression"
      ],
      "metadata": {
        "id": "57ydZXYD-x5d"
      }
    },
    {
      "cell_type": "code",
      "source": [
        "from sklearn.model_selection import train_test_split\n",
        "from sklearn.preprocessing import StandardScaler\n",
        "from sklearn.linear_model import LogisticRegression\n",
        "from sklearn.metrics import accuracy_score, classification_report\n",
        "\n",
        "# Separate features and target variable\n",
        "X = data.drop(columns=['class'])\n",
        "y = data['class']\n",
        "\n",
        "# Split the data into training and test sets\n",
        "X_train, X_test, y_train, y_test = train_test_split(X, y, test_size=0.3, random_state=42)\n",
        "\n",
        "# Standardize the features\n",
        "scaler = StandardScaler()\n",
        "X_train = scaler.fit_transform(X_train)\n",
        "X_test = scaler.transform(X_test)\n",
        "\n",
        "# Initialize and train the logistic regression model\n",
        "model = LogisticRegression(max_iter=1000)\n",
        "model.fit(X_train, y_train)\n",
        "\n",
        "# Make predictions on the test set\n",
        "y_pred = model.predict(X_test)\n",
        "\n",
        "# Evaluate the model\n",
        "accuracy = accuracy_score(y_test, y_pred)\n",
        "report = classification_report(y_test, y_pred)\n",
        "\n",
        "print(\"Accuracy:\", accuracy)\n",
        "print(\"Classification Report:\\n\", report)\n"
      ],
      "metadata": {
        "id": "9Wi5zeN98MdV",
        "colab": {
          "base_uri": "https://localhost:8080/"
        },
        "outputId": "27502644-314c-4e8f-cb21-0585f57bcc64"
      },
      "execution_count": 2,
      "outputs": [
        {
          "output_type": "stream",
          "name": "stdout",
          "text": [
            "Accuracy: 0.9232440260680667\n",
            "Classification Report:\n",
            "               precision    recall  f1-score   support\n",
            "\n",
            "           0       0.92      0.96      0.94       804\n",
            "           1       0.94      0.88      0.91       577\n",
            "\n",
            "    accuracy                           0.92      1381\n",
            "   macro avg       0.93      0.92      0.92      1381\n",
            "weighted avg       0.92      0.92      0.92      1381\n",
            "\n"
          ]
        }
      ]
    },
    {
      "cell_type": "markdown",
      "source": [
        "# Decision Tree"
      ],
      "metadata": {
        "id": "46bpaJofAuKn"
      }
    },
    {
      "cell_type": "code",
      "source": [
        "import pandas as pd\n",
        "from sklearn.model_selection import train_test_split\n",
        "from sklearn.tree import DecisionTreeClassifier\n",
        "from sklearn.metrics import accuracy_score, classification_report\n",
        "from sklearn.preprocessing import LabelEncoder\n",
        "\n",
        "# Load the dataset\n",
        "data = pd.read_csv('/content/spambase_csv.csv')\n",
        "\n",
        "# Check for missing values\n",
        "if data.isnull().values.any():\n",
        "    data = data.dropna()  # Drop rows with missing values, if any\n",
        "\n",
        "# Split data into features and target (assuming the last column is the target)\n",
        "X = data.iloc[:, :-1]\n",
        "y = data.iloc[:, -1]\n",
        "\n",
        "# Encode target labels if necessary\n",
        "if y.dtype == 'object':\n",
        "    le = LabelEncoder()\n",
        "    y = le.fit_transform(y)\n",
        "\n",
        "# Split data into training and testing sets\n",
        "X_train, X_test, y_train, y_test = train_test_split(X, y, test_size=0.3, random_state=42)\n",
        "\n",
        "# Initialize and train the Decision Tree model\n",
        "model = DecisionTreeClassifier(random_state=42)\n",
        "model.fit(X_train, y_train)\n",
        "\n",
        "# Make predictions\n",
        "y_pred = model.predict(X_test)\n",
        "\n",
        "# Evaluate the model\n",
        "accuracy = accuracy_score(y_test, y_pred)\n",
        "report = classification_report(y_test, y_pred)\n",
        "\n",
        "print(\"Accuracy:\", accuracy)\n",
        "print(\"\\nClassification Report:\\n\", report)\n"
      ],
      "metadata": {
        "colab": {
          "base_uri": "https://localhost:8080/"
        },
        "id": "QkEgtToY_LxY",
        "outputId": "610edc05-f935-439f-8b0d-74869dfcd335"
      },
      "execution_count": 3,
      "outputs": [
        {
          "output_type": "stream",
          "name": "stdout",
          "text": [
            "Accuracy: 0.8993482983345402\n",
            "\n",
            "Classification Report:\n",
            "               precision    recall  f1-score   support\n",
            "\n",
            "           0       0.91      0.91      0.91       804\n",
            "           1       0.88      0.88      0.88       577\n",
            "\n",
            "    accuracy                           0.90      1381\n",
            "   macro avg       0.90      0.90      0.90      1381\n",
            "weighted avg       0.90      0.90      0.90      1381\n",
            "\n"
          ]
        }
      ]
    },
    {
      "cell_type": "markdown",
      "source": [
        "# K-Means"
      ],
      "metadata": {
        "id": "xm0J5p3AA3V-"
      }
    },
    {
      "cell_type": "code",
      "source": [
        "import pandas as pd\n",
        "from sklearn.cluster import KMeans\n",
        "import matplotlib.pyplot as plt\n",
        "\n",
        "# Load the dataset\n",
        "data = pd.read_csv('/content/spambase_csv.csv')\n",
        "\n",
        "# Select the number of clusters\n",
        "k = 3  # Set to the number of clusters you want\n",
        "kmeans = KMeans(n_clusters=k, random_state=42)\n",
        "\n",
        "# Fit the model\n",
        "kmeans.fit(data)\n",
        "\n",
        "# Predict the cluster for each data point\n",
        "data['Cluster'] = kmeans.labels_\n",
        "\n",
        "# Print the cluster centers\n",
        "print(\"Cluster Centers:\\n\", kmeans.cluster_centers_)\n",
        "\n",
        "# Count the number of data points in each cluster\n",
        "print(\"\\nCluster Counts:\\n\", data['Cluster'].value_counts())\n",
        "\n",
        "# Plotting (Optional: for 2D data)\n",
        "plt.scatter(data.iloc[:, 0], data.iloc[:, 1], c=data['Cluster'], cmap='viridis')\n",
        "plt.scatter(kmeans.cluster_centers_[:, 0], kmeans.cluster_centers_[:, 1], s=300, c='red', marker='X')\n",
        "plt.title(\"K-Means Clustering\")\n",
        "plt.xlabel(\"Feature 1\")\n",
        "plt.ylabel(\"Feature 2\")\n",
        "plt.show()\n"
      ],
      "metadata": {
        "colab": {
          "base_uri": "https://localhost:8080/",
          "height": 1000
        },
        "id": "BeUDtp36A6_2",
        "outputId": "13135276-381d-4b4a-8259-2958bba3e3d6"
      },
      "execution_count": 4,
      "outputs": [
        {
          "output_type": "stream",
          "name": "stdout",
          "text": [
            "Cluster Centers:\n",
            " [[ 9.77793460e-02  2.17268878e-01  2.68289814e-01  6.28040461e-02\n",
            "   3.11086803e-01  8.79369560e-02  1.15224653e-01  1.01456128e-01\n",
            "   6.60950365e-02  2.22284168e-01  5.31192661e-02  5.41470242e-01\n",
            "   8.56363209e-02  4.48035756e-02  3.10656316e-02  2.46720772e-01\n",
            "   1.40199953e-01  1.70468125e-01  1.66493766e+00  6.86567866e-02\n",
            "   7.99207245e-01  9.30322277e-02  8.42672312e-02  8.41025641e-02\n",
            "   5.77588803e-01  2.79971771e-01  8.29317808e-01  1.34333098e-01\n",
            "   1.06847801e-01  1.10432839e-01  6.92542931e-02  5.09009645e-02\n",
            "   9.72524112e-02  5.15314044e-02  1.10030581e-01  1.02858151e-01\n",
            "   1.38555634e-01  1.40931546e-02  8.41943072e-02  6.75864502e-02\n",
            "   4.64079040e-02  1.42058339e-01  4.81416137e-02  8.46012703e-02\n",
            "   3.22561750e-01  1.90630440e-01  5.37991061e-03  3.26346742e-02\n",
            "   3.86302047e-02  1.39177135e-01  1.63147495e-02  2.64037168e-01\n",
            "   6.38339214e-02  4.09061397e-02  3.38569819e+00  3.01434956e+01\n",
            "   1.57354975e+02  3.62973418e-01]\n",
            " [ 1.88144928e-01  1.63565217e-01  4.34260870e-01  9.85507246e-02\n",
            "   3.29420290e-01  1.93710145e-01  1.03333333e-01  1.53275362e-01\n",
            "   3.85913043e-01  4.51217391e-01  1.42231884e-01  5.51217391e-01\n",
            "   1.96434783e-01  2.29797101e-01  2.72869565e-01  2.77391304e-01\n",
            "   1.72927536e-01  3.62231884e-01  1.64240580e+00  2.95188406e-01\n",
            "   9.48028986e-01  4.42434783e-01  3.15246377e-01  2.19304348e-01\n",
            "   2.11420290e-01  8.94782609e-02  1.43188406e-02  9.73913043e-03\n",
            "   2.60869565e-03  1.09275362e-02  1.02318841e-02  2.60869565e-04\n",
            "   9.83478261e-02  2.57971014e-03  5.00289855e-02  3.24637681e-02\n",
            "   1.19188406e-01  2.40579710e-03  1.09565217e-02  3.18550725e-02\n",
            "   1.05217391e-02  1.44927536e-02  2.15942029e-02  1.37391304e-02\n",
            "   4.21159420e-02  4.92753623e-02  6.31884058e-03  2.28985507e-02\n",
            "   3.22144928e-02  1.10115942e-01  2.52376812e-02  3.29307246e-01\n",
            "   2.19049275e-01  8.01043478e-02  2.66841768e+01  2.91066667e+02\n",
            "   1.68479420e+03  7.68115942e-01]\n",
            " [ 9.60000000e-02  8.00000000e-03  1.96000000e-01  8.00000000e-03\n",
            "   9.20000000e-02  1.18000000e-01  0.00000000e+00  5.80000000e-02\n",
            "   5.80000000e-02  1.88000000e-01  7.40000000e-02  8.20000000e-02\n",
            "   7.20000000e-02 -6.93889390e-18  3.80000000e-02  8.80000000e-02\n",
            "   7.80000000e-02  7.60000000e-02  6.08000000e-01  8.00000000e-03\n",
            "   2.42000000e-01  1.90600000e+00  1.38000000e-01  1.10000000e-01\n",
            "   0.00000000e+00  0.00000000e+00 -1.11022302e-16 -1.38777878e-17\n",
            "   0.00000000e+00  0.00000000e+00  0.00000000e+00 -6.93889390e-18\n",
            "   0.00000000e+00  2.80000000e-02 -1.38777878e-17  8.00000000e-03\n",
            "  -2.77555756e-17  0.00000000e+00  1.60000000e-02  0.00000000e+00\n",
            "   0.00000000e+00 -2.77555756e-17  0.00000000e+00  0.00000000e+00\n",
            "   3.80000000e-02  0.00000000e+00  0.00000000e+00  0.00000000e+00\n",
            "   4.30200000e-01  2.00940000e+00  9.00000000e-03  3.92400000e-01\n",
            "   3.75000000e-01  4.02400000e-01  5.75034000e+01  2.29780000e+03\n",
            "   1.06488000e+04  1.00000000e+00]]\n",
            "\n",
            "Cluster Counts:\n",
            " Cluster\n",
            "0    4251\n",
            "1     345\n",
            "2       5\n",
            "Name: count, dtype: int64\n"
          ]
        },
        {
          "output_type": "display_data",
          "data": {
            "text/plain": [
              "<Figure size 640x480 with 1 Axes>"
            ],
            "image/png": "[encoded data removed]"
          },
          "metadata": {}
        }
      ]
    }
  ]
}